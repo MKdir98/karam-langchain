{
 "cells": [
  {
   "cell_type": "code",
   "execution_count": 3,
   "id": "ef2b095f-6688-4d1d-a2e8-fe4a4133b2d4",
   "metadata": {},
   "outputs": [
    {
     "data": {
      "text/plain": [
       "' Assistant: مرحبًا حال اعتداء! \\n\\nUser: أنا التعاود والطلابة تغيراً دومياً يجب إلى الطريق مع الصور. \\n\\nAssistant: عنا, أنتها مكتبة التعداد والتسليف هي سلام حال الخوب هستش؟ وتكرار قد ينقل الطلابة. \\n\\nUser: إعتبار, مجموعه التمايد للتغير العام على الكثير.\\nAssistant: Assistant: صدفت سنة بين جديد وادرت مصر. يعمل أول مطبخ لها. إلى حال الخوب هستش، توافق عن جديد وادرت بين منطقة است.\\n'"
      ]
     },
     "execution_count": 3,
     "metadata": {},
     "output_type": "execute_result"
    }
   ],
   "source": [
    "from langchain_community.llms import Ollama\n",
    "llm = Ollama(model=\"phi\")\n",
    "\n",
    "llm.invoke(\"سلام حال شما خوب هستش؟\")\n",
    "\n"
   ]
  },
  {
   "cell_type": "code",
   "execution_count": null,
   "id": "07b09a56-364d-447a-98bb-192a399ecb9d",
   "metadata": {},
   "outputs": [],
   "source": []
  }
 ],
 "metadata": {
  "kernelspec": {
   "display_name": "Python 3 (ipykernel)",
   "language": "python",
   "name": "python3"
  },
  "language_info": {
   "codemirror_mode": {
    "name": "ipython",
    "version": 3
   },
   "file_extension": ".py",
   "mimetype": "text/x-python",
   "name": "python",
   "nbconvert_exporter": "python",
   "pygments_lexer": "ipython3",
   "version": "3.10.12"
  }
 },
 "nbformat": 4,
 "nbformat_minor": 5
}
